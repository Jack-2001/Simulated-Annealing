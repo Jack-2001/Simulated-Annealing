{
  "nbformat": 4,
  "nbformat_minor": 0,
  "metadata": {
    "colab": {
      "name": "sudoku.ipynb",
      "provenance": []
    },
    "kernelspec": {
      "name": "python3",
      "display_name": "Python 3"
    },
    "language_info": {
      "name": "python"
    }
  },
  "cells": [
    {
      "cell_type": "code",
      "metadata": {
        "id": "RawAj2xbVmHI"
      },
      "source": [
        "import random\n",
        "import numpy as np\n",
        "import math \n",
        "from random import choice\n",
        "import statistics \n",
        "import matplotlib.pyplot as plt"
      ],
      "execution_count": null,
      "outputs": []
    },
    {
      "cell_type": "code",
      "metadata": {
        "id": "vX6QqtANVsfE"
      },
      "source": [
        "startingSudoku = \"\"\"\n",
        "                    024007000\n",
        "                    600000000\n",
        "                    003680415\n",
        "                    431005000\n",
        "                    500000032\n",
        "                    790000060\n",
        "                    209710800\n",
        "                    040093000\n",
        "                    310004750\n",
        "                \"\"\"\n",
        "# startingSudoku = \"\"\"\n",
        "#                       000000680\n",
        "#                       000073009\n",
        "#                       309000045\n",
        "#                       490000000\n",
        "#                       803050902\n",
        "#                       000000036\n",
        "#                       960000308\n",
        "#                       700680000\n",
        "#                       028000000\n",
        "#                 \"\"\"\n",
        "sudoku = np.array([[int(i) for i in line] for line in startingSudoku.split()])\n",
        "costarray=[]"
      ],
      "execution_count": null,
      "outputs": []
    },
    {
      "cell_type": "code",
      "metadata": {
        "id": "9cawcAC9Vu_k"
      },
      "source": [
        "def PrintSudoku(sudoku):\n",
        "    print(\"\\n\")\n",
        "    for i in range(len(sudoku)):\n",
        "        line = \"\"\n",
        "        if i == 3 or i == 6:\n",
        "            print(\"---------------------\")\n",
        "        for j in range(len(sudoku[i])):\n",
        "            if j == 3 or j == 6:\n",
        "                line += \"| \"\n",
        "            line += str(sudoku[i,j])+\" \"\n",
        "        print(line)\n"
      ],
      "execution_count": null,
      "outputs": []
    },
    {
      "cell_type": "code",
      "metadata": {
        "id": "LjWymYBSVy9V"
      },
      "source": [
        "def FixSudokuValues(fixed_sudoku):\n",
        "    for i in range (0,9):\n",
        "        for j in range (0,9):\n",
        "            if fixed_sudoku[i,j] != 0:\n",
        "                fixed_sudoku[i,j] = 1\n",
        "    \n",
        "    return(fixed_sudoku)\n"
      ],
      "execution_count": null,
      "outputs": []
    },
    {
      "cell_type": "code",
      "metadata": {
        "id": "DNf5cPIRV4wt"
      },
      "source": [
        "def CalculateNumberOfErrors(sudoku):\n",
        "    numberOfErrors = 0 \n",
        "    for i in range (0,9):\n",
        "        numberOfErrors += CalculateNumberOfErrorsRowColumn(i ,i ,sudoku)\n",
        "    return(numberOfErrors)\n"
      ],
      "execution_count": null,
      "outputs": []
    },
    {
      "cell_type": "code",
      "metadata": {
        "id": "5qXeMWwxV6xU"
      },
      "source": [
        "def CalculateNumberOfErrorsRowColumn(row, column, sudoku):\n",
        "    numberOfErrors = (9 - len(np.unique(sudoku[:,column]))) + (9 - len(np.unique(sudoku[row,:])))\n",
        "    return(numberOfErrors)\n",
        "\n"
      ],
      "execution_count": null,
      "outputs": []
    },
    {
      "cell_type": "code",
      "metadata": {
        "id": "EyjXpUvNV80l"
      },
      "source": [
        "def CreateList3x3Blocks ():\n",
        "    finalListOfBlocks = []\n",
        "    for r in range (0,9):\n",
        "        tmpList = []\n",
        "        block1 = [i + 3*((r)%3) for i in range(0,3)]\n",
        "        block2 = [i + 3*math.trunc((r)/3) for i in range(0,3)]\n",
        "        # print(\"block1=\")\n",
        "        # print(block1)\n",
        "\n",
        "        # print(\"block2=\")\n",
        "        # print(block2)\n",
        "        for x in block1:\n",
        "            for y in block2:\n",
        "                tmpList.append([x,y])\n",
        "        finalListOfBlocks.append(tmpList)\n",
        "    # print(finalListOfBlocks)\n",
        "    return(finalListOfBlocks)\n"
      ],
      "execution_count": null,
      "outputs": []
    },
    {
      "cell_type": "code",
      "metadata": {
        "id": "H4RjLc9IWCvM"
      },
      "source": [
        "def RandomlyFill3x3Blocks(sudoku, listOfBlocks):\n",
        "    for block in listOfBlocks:\n",
        "        for box in block:\n",
        "            if sudoku[box[0],box[1]] == 0:\n",
        "                currentBlock = sudoku[block[0][0]:(block[-1][0]+1),block[0][1]:(block[-1][1]+1)]\n",
        "                # print(currentBlock)\n",
        "                sudoku[box[0],box[1]] = choice([i for i in range(1,10) if i not in currentBlock])\n",
        "    return sudoku\n"
      ],
      "execution_count": null,
      "outputs": []
    },
    {
      "cell_type": "code",
      "metadata": {
        "id": "u7mZkoK3WFtt"
      },
      "source": [
        "def SumOfOneBlock (sudoku, oneBlock):\n",
        "    finalSum = 0\n",
        "    for box in oneBlock:\n",
        "        finalSum += sudoku[box[0], box[1]]\n",
        "    return(finalSum)\n"
      ],
      "execution_count": null,
      "outputs": []
    },
    {
      "cell_type": "code",
      "metadata": {
        "id": "EkKO_uQCWIYs"
      },
      "source": [
        "def TwoRandomBoxesWithinBlock(fixedSudoku, block):\n",
        "    while (1):\n",
        "        firstBox = random.choice(block)\n",
        "        secondBox = choice([box for box in block if box is not firstBox ])\n",
        "\n",
        "        if fixedSudoku[firstBox[0], firstBox[1]] != 1 and fixedSudoku[secondBox[0], secondBox[1]] != 1:\n",
        "            return([firstBox, secondBox])\n"
      ],
      "execution_count": null,
      "outputs": []
    },
    {
      "cell_type": "code",
      "metadata": {
        "id": "H_a0qNO_WKSN"
      },
      "source": [
        "def FlipBoxes(sudoku, boxesToFlip):\n",
        "    proposedSudoku = np.copy(sudoku)\n",
        "    placeHolder = proposedSudoku[boxesToFlip[0][0], boxesToFlip[0][1]]\n",
        "    proposedSudoku[boxesToFlip[0][0], boxesToFlip[0][1]] = proposedSudoku[boxesToFlip[1][0], boxesToFlip[1][1]]\n",
        "    proposedSudoku[boxesToFlip[1][0], boxesToFlip[1][1]] = placeHolder\n",
        "    return (proposedSudoku)\n"
      ],
      "execution_count": null,
      "outputs": []
    },
    {
      "cell_type": "code",
      "metadata": {
        "id": "TS6tqa5pWMI1"
      },
      "source": [
        "def ProposedState (sudoku, fixedSudoku, listOfBlocks):\n",
        "    randomBlock = random.choice(listOfBlocks)\n",
        "\n",
        "    if SumOfOneBlock(fixedSudoku, randomBlock) > 7:  \n",
        "        return(sudoku, 1, 1)\n",
        "    boxesToFlip = TwoRandomBoxesWithinBlock(fixedSudoku, randomBlock)\n",
        "    proposedSudoku = FlipBoxes(sudoku,  boxesToFlip)\n",
        "    return([proposedSudoku, boxesToFlip])\n"
      ],
      "execution_count": null,
      "outputs": []
    },
    {
      "cell_type": "code",
      "metadata": {
        "id": "D0gFy64mWO-3"
      },
      "source": [
        "def ChooseNewState (currentSudoku, fixedSudoku, listOfBlocks, sigma):\n",
        "    proposal = ProposedState(currentSudoku, fixedSudoku, listOfBlocks)\n",
        "    newSudoku = proposal[0]         \n",
        "    boxesToCheck = proposal[1]      \n",
        "    currentCost = CalculateNumberOfErrorsRowColumn(boxesToCheck[0][0], boxesToCheck[0][1], currentSudoku) + CalculateNumberOfErrorsRowColumn(boxesToCheck[1][0], boxesToCheck[1][1], currentSudoku)\n",
        "    newCost = CalculateNumberOfErrorsRowColumn(boxesToCheck[0][0], boxesToCheck[0][1], newSudoku) + CalculateNumberOfErrorsRowColumn(boxesToCheck[1][0], boxesToCheck[1][1], newSudoku)\n",
        "    costDifference = newCost - currentCost\n",
        "    rho = math.exp(-costDifference/sigma)\n",
        "    if(np.random.uniform(1,0,1) < rho):\n",
        "        return([newSudoku, costDifference])\n",
        "    return([currentSudoku, 0])    \n",
        "                                "
      ],
      "execution_count": null,
      "outputs": []
    },
    {
      "cell_type": "code",
      "metadata": {
        "id": "B5mdVgPcYZS0"
      },
      "source": [
        "\n",
        "def ChooseNumberOfItterations(fixed_sudoku):\n",
        "    numberOfItterations = 0\n",
        "    for i in range (0,9):\n",
        "        for j in range (0,9):\n",
        "            if fixed_sudoku[i,j] != 0:\n",
        "                numberOfItterations += 1\n",
        "    return numberOfItterations\n"
      ],
      "execution_count": null,
      "outputs": []
    },
    {
      "cell_type": "code",
      "metadata": {
        "id": "jlq_ZIUbYbi0"
      },
      "source": [
        "def CalculateInitialSigma (sudoku, fixedSudoku, listOfBlocks):\n",
        "    listOfDifferences = []\n",
        "    tmpSudoku = sudoku\n",
        "    for i in range(1,10):\n",
        "        tmpSudoku = ProposedState(tmpSudoku, fixedSudoku, listOfBlocks)[0]\n",
        "        listOfDifferences.append(CalculateNumberOfErrors(tmpSudoku))\n",
        "    return (statistics.pstdev(listOfDifferences))\n"
      ],
      "execution_count": null,
      "outputs": []
    },
    {
      "cell_type": "code",
      "metadata": {
        "id": "6ffDkMwbYftc"
      },
      "source": [
        "def solveSudoku (sudoku):\n",
        "    f = open(\"demofile2.txt\", \"a\")\n",
        "    solutionFound = 0\n",
        "    while (solutionFound == 0):\n",
        "        decreaseFactor = 0.98\n",
        "        stuckCount = 0\n",
        "        fixedSudoku = np.copy(sudoku)\n",
        "        PrintSudoku(sudoku)\n",
        "        FixSudokuValues(fixedSudoku)\n",
        "        listOfBlocks = CreateList3x3Blocks()\n",
        "        tmpSudoku = RandomlyFill3x3Blocks(sudoku, listOfBlocks)\n",
        "        sigma = CalculateInitialSigma(sudoku, fixedSudoku, listOfBlocks)\n",
        "        score = CalculateNumberOfErrors(tmpSudoku)\n",
        "        itterations = ChooseNumberOfItterations(fixedSudoku)\n",
        "        if score <= 0:\n",
        "            solutionFound = 1\n",
        "\n",
        "        while solutionFound == 0:\n",
        "            previousScore = score\n",
        "            for i in range (0, itterations):\n",
        "                newState = ChooseNewState(tmpSudoku, fixedSudoku, listOfBlocks, sigma)\n",
        "                tmpSudoku = newState[0]\n",
        "                scoreDiff = newState[1]\n",
        "                score += scoreDiff\n",
        "                # print(score)\n",
        "                costarray.append(score)\n",
        "                f.write(str(score) + '\\n')\n",
        "                if score <= 0:\n",
        "                    solutionFound = 1\n",
        "                    break\n",
        "\n",
        "            sigma *= decreaseFactor\n",
        "            if score <= 0:\n",
        "                solutionFound = 1\n",
        "                break\n",
        "            if score >= previousScore:\n",
        "                stuckCount += 1\n",
        "            else:\n",
        "                stuckCount = 0\n",
        "            if (stuckCount > 80):\n",
        "                sigma += 2\n",
        "            if(CalculateNumberOfErrors(tmpSudoku)==0):\n",
        "                PrintSudoku(tmpSudoku)\n",
        "                break\n",
        "    f.close()\n",
        "    return(tmpSudoku)\n"
      ],
      "execution_count": null,
      "outputs": []
    },
    {
      "cell_type": "code",
      "metadata": {
        "colab": {
          "base_uri": "https://localhost:8080/",
          "height": 746
        },
        "id": "U1zu7dCWYhVs",
        "outputId": "3c0341d9-cd48-4dcb-9162-5a4429696f38"
      },
      "source": [
        "solution = solveSudoku(sudoku)\n",
        "# print(CalculateNumberOfErrors(solution))\n",
        "# print(costarray)\n",
        "x=np.arange(0,len(costarray))\n",
        "plt.plot(x,costarray)\n",
        "\n",
        "plt.xlabel('iterations')\n",
        "plt.ylabel(' Cost function')\n",
        "  \n",
        "# displaying the title\n",
        "plt.title(\"Sudoku\")\n",
        "PrintSudoku(solution)"
      ],
      "execution_count": null,
      "outputs": [
        {
          "output_type": "stream",
          "text": [
            "\n",
            "\n",
            "0 2 4 | 0 0 7 | 0 0 0 \n",
            "6 0 0 | 0 0 0 | 0 0 0 \n",
            "0 0 3 | 6 8 0 | 4 1 5 \n",
            "---------------------\n",
            "4 3 1 | 0 0 5 | 0 0 0 \n",
            "5 0 0 | 0 0 0 | 0 3 2 \n",
            "7 9 0 | 0 0 0 | 0 6 0 \n",
            "---------------------\n",
            "2 0 9 | 7 1 0 | 8 0 0 \n",
            "0 4 0 | 0 9 3 | 0 0 0 \n",
            "3 1 0 | 0 0 4 | 7 5 0 \n",
            "\n",
            "\n",
            "1 2 4 | 9 5 7 | 3 8 6 \n",
            "6 8 5 | 3 4 1 | 2 9 7 \n",
            "9 7 3 | 6 8 2 | 4 1 5 \n",
            "---------------------\n",
            "4 3 1 | 2 6 5 | 9 7 8 \n",
            "5 6 8 | 4 7 9 | 1 3 2 \n",
            "7 9 2 | 1 3 8 | 5 6 4 \n",
            "---------------------\n",
            "2 5 9 | 7 1 6 | 8 4 3 \n",
            "8 4 7 | 5 9 3 | 6 2 1 \n",
            "3 1 6 | 8 2 4 | 7 5 9 \n"
          ],
          "name": "stdout"
        },
        {
          "output_type": "display_data",
          "data": {
            "image/png": "[encoded data removed]",
            "text/plain": [
              "<Figure size 432x288 with 1 Axes>"
            ]
          },
          "metadata": {
            "tags": [],
            "needs_background": "light"
          }
        }
      ]
    },
    {
      "cell_type": "markdown",
      "metadata": {
        "id": "U0GrUrWq3gfc"
      },
      "source": [
        ""
      ]
    }
  ]
}